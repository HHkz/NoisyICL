{
 "cells": [
  {
   "cell_type": "code",
   "execution_count": 1,
   "id": "e17f4235-1d84-467c-92f2-3fcdeb7e734d",
   "metadata": {
    "tags": []
   },
   "outputs": [
    {
     "name": "stdout",
     "output_type": "stream",
     "text": [
      "lambda: 0  demos: 0\n"
     ]
    },
    {
     "data": {
      "application/vnd.jupyter.widget-view+json": {
       "model_id": "ebf6b85a2d834f70b2d0f0c927045ded",
       "version_major": 2,
       "version_minor": 0
      },
      "text/plain": [
       "  0%|0/512[00:00<?]"
      ]
     },
     "metadata": {},
     "output_type": "display_data"
    },
    {
     "name": "stderr",
     "output_type": "stream",
     "text": [
      "WARNING:root:Warning: Some classes do not exist in the target. F1 scores for these classes will be cast to zeros.\n",
      "/home/s2320415/NoisyICL/evaluate.py:61: UserWarning: Creating a tensor from a list of numpy.ndarrays is extremely slow. Please consider converting the list to a single numpy.ndarray with numpy.array() before converting to a tensor. (Triggered internally at ../torch/csrc/utils/tensor_new.cpp:261.)\n",
      "  ECE1 = ECE1_function(torch.Tensor(confidences_amoung_label_spaces), torch.Tensor(true_labels)).item()\n",
      "WARNING:root:Warning: Some classes do not exist in the target. F1 scores for these classes will be cast to zeros.\n",
      "WARNING:root:Warning: Some classes do not exist in the target. F1 scores for these classes will be cast to zeros.\n"
     ]
    },
    {
     "name": "stdout",
     "output_type": "stream",
     "text": [
      "lambda: 0  demos: 0\n"
     ]
    },
    {
     "data": {
      "application/vnd.jupyter.widget-view+json": {
       "model_id": "0ee8234c3a994b3c868f10e9ed91a105",
       "version_major": 2,
       "version_minor": 0
      },
      "text/plain": [
       "  0%|0/512[00:00<?]"
      ]
     },
     "metadata": {},
     "output_type": "display_data"
    },
    {
     "name": "stderr",
     "output_type": "stream",
     "text": [
      "WARNING:root:Warning: Some classes do not exist in the target. F1 scores for these classes will be cast to zeros.\n",
      "WARNING:root:Warning: Some classes do not exist in the target. F1 scores for these classes will be cast to zeros.\n",
      "WARNING:root:Warning: Some classes do not exist in the target. F1 scores for these classes will be cast to zeros.\n"
     ]
    },
    {
     "name": "stdout",
     "output_type": "stream",
     "text": [
      "lambda: 0  demos: 0\n"
     ]
    },
    {
     "data": {
      "application/vnd.jupyter.widget-view+json": {
       "model_id": "1a8651fc4465407b948ab1413cb4cba0",
       "version_major": 2,
       "version_minor": 0
      },
      "text/plain": [
       "  0%|0/512[00:00<?]"
      ]
     },
     "metadata": {},
     "output_type": "display_data"
    },
    {
     "name": "stderr",
     "output_type": "stream",
     "text": [
      "WARNING:root:Warning: Some classes do not exist in the target. F1 scores for these classes will be cast to zeros.\n",
      "WARNING:root:Warning: Some classes do not exist in the target. F1 scores for these classes will be cast to zeros.\n",
      "WARNING:root:Warning: Some classes do not exist in the target. F1 scores for these classes will be cast to zeros.\n"
     ]
    },
    {
     "name": "stdout",
     "output_type": "stream",
     "text": [
      "lambda: 0  demos: 0\n"
     ]
    },
    {
     "data": {
      "application/vnd.jupyter.widget-view+json": {
       "model_id": "964b9b1de1c94bd9ace6f947cd286bfd",
       "version_major": 2,
       "version_minor": 0
      },
      "text/plain": [
       "  0%|0/512[00:00<?]"
      ]
     },
     "metadata": {},
     "output_type": "display_data"
    },
    {
     "name": "stderr",
     "output_type": "stream",
     "text": [
      "WARNING:root:Warning: Some classes do not exist in the target. F1 scores for these classes will be cast to zeros.\n",
      "WARNING:root:Warning: Some classes do not exist in the target. F1 scores for these classes will be cast to zeros.\n",
      "WARNING:root:Warning: Some classes do not exist in the target. F1 scores for these classes will be cast to zeros.\n"
     ]
    },
    {
     "name": "stdout",
     "output_type": "stream",
     "text": [
      "lambda: 0  demos: 0\n"
     ]
    },
    {
     "data": {
      "application/vnd.jupyter.widget-view+json": {
       "model_id": "0669ec9e028a41da9e34d8e6a5aae6ca",
       "version_major": 2,
       "version_minor": 0
      },
      "text/plain": [
       "  0%|0/512[00:00<?]"
      ]
     },
     "metadata": {},
     "output_type": "display_data"
    },
    {
     "name": "stderr",
     "output_type": "stream",
     "text": [
      "WARNING:root:Warning: Some classes do not exist in the target. F1 scores for these classes will be cast to zeros.\n",
      "WARNING:root:Warning: Some classes do not exist in the target. F1 scores for these classes will be cast to zeros.\n",
      "WARNING:root:Warning: Some classes do not exist in the target. F1 scores for these classes will be cast to zeros.\n"
     ]
    }
   ],
   "source": [
    "from dataset_loader import SemEval2014_Restaurants\n",
    "import experiment_cell\n",
    "\n",
    "loader = SemEval2014_Restaurants().default_training_division()\n",
    "experiment_cell.main_experiment(\n",
    "    'gpt2', \n",
    "    'gpt2', \n",
    "    loader,\n",
    "    one_minus_lambdas=[1],\n",
    "    #one_minus_lambdas=[0.7, 0.8, 0.9, 1, 0.98, 0.96, 0.94, 0.92, 0.982, 0.984, 0.986, 0.988, 0.99, 0.992, 0.994, 0.996, 0.998], \n",
    "    tries=1, \n",
    "    demos=[0])"
   ]
  },
  {
   "cell_type": "code",
   "execution_count": 2,
   "id": "31abf6ce-39ce-49aa-88f4-3c0470999e97",
   "metadata": {
    "tags": []
   },
   "outputs": [
    {
     "data": {
      "text/plain": [
       "('@user @user @user Point missed totally...after Port Arthur national strategies abt gun control were set up. No changes.',\n",
       " 'neutral')"
      ]
     },
     "execution_count": 2,
     "metadata": {},
     "output_type": "execute_result"
    }
   ],
   "source": [
    "from dataset_loader import tweet_eval_sentiment\n",
    "\n",
    "loader = tweet_eval_sentiment().default_training_division()\n",
    "loader.get(-1)"
   ]
  },
  {
   "cell_type": "code",
   "execution_count": 3,
   "id": "311ad2a1-826d-43e7-82b4-2c394ac6d5ce",
   "metadata": {
    "tags": []
   },
   "outputs": [
    {
     "data": {
      "text/plain": [
       "('Microsoft HoloLens just pulled off a mixed reality #MannequinChallenge. #htcive #baofeng #psvr',\n",
       " 'neutral')"
      ]
     },
     "execution_count": 3,
     "metadata": {},
     "output_type": "execute_result"
    }
   ],
   "source": [
    "loader.get(-7)"
   ]
  },
  {
   "cell_type": "code",
   "execution_count": null,
   "id": "39247c60-2239-40de-8c91-729964577f27",
   "metadata": {},
   "outputs": [],
   "source": []
  },
  {
   "cell_type": "code",
   "execution_count": 7,
   "id": "fd61feac-e149-4c11-a6ad-c915b7e17a9f",
   "metadata": {
    "tags": []
   },
   "outputs": [
    {
     "ename": "AttributeError",
     "evalue": "'SemEval2014_Restaurants' object has no attribute 'glue_rte'",
     "output_type": "error",
     "traceback": [
      "\u001b[0;31m---------------------------------------------------------------------------\u001b[0m",
      "\u001b[0;31mAttributeError\u001b[0m                            Traceback (most recent call last)",
      "Cell \u001b[0;32mIn[7], line 4\u001b[0m\n\u001b[1;32m      1\u001b[0m \u001b[38;5;28;01mfrom\u001b[39;00m \u001b[38;5;21;01mdataset_loader\u001b[39;00m \u001b[38;5;28;01mimport\u001b[39;00m glue_rte\n\u001b[1;32m      2\u001b[0m \u001b[38;5;28;01mimport\u001b[39;00m \u001b[38;5;21;01mexperiment_cell\u001b[39;00m\n\u001b[0;32m----> 4\u001b[0m loader \u001b[38;5;241m=\u001b[39m \u001b[43mSemEval2014_Restaurants\u001b[49m\u001b[43m(\u001b[49m\u001b[43m)\u001b[49m\u001b[38;5;241;43m.\u001b[39;49m\u001b[43mglue_rte\u001b[49m()\n",
      "\u001b[0;31mAttributeError\u001b[0m: 'SemEval2014_Restaurants' object has no attribute 'glue_rte'"
     ]
    }
   ],
   "source": [
    "from dataset_loader import glue_rte\n",
    "import experiment_cell\n",
    "\n",
    "loader = SemEval2014_Restaurants().glue_rte()"
   ]
  },
  {
   "cell_type": "code",
   "execution_count": 2,
   "id": "2695d20c-63af-4300-a6ac-a45e1f0616c9",
   "metadata": {
    "tags": []
   },
   "outputs": [
    {
     "data": {
      "text/plain": [
       "(', Aspect: ', '')"
      ]
     },
     "execution_count": 2,
     "metadata": {},
     "output_type": "execute_result"
    }
   ],
   "source": [
    "loader.get_empty_input()"
   ]
  },
  {
   "cell_type": "code",
   "execution_count": 6,
   "id": "97b89c2a-e1f8-4b9a-9c87-e4075489ff8a",
   "metadata": {
    "tags": []
   },
   "outputs": [
    {
     "name": "stdout",
     "output_type": "stream",
     "text": [
      "Input: Only suggestion is that you skip the dessert, it was overpriced and fell short on taste., Aspect: taste, Label: negative\n",
      "Input: Satay is one of those favorite haunts on Washington where the service and food is always on the money., Aspect: food, Label: positive\n",
      "Input: Chef Vincenzo, always there if you need him, is a real talent and a real Roman., Aspect: Chef, Label: positive\n",
      "Input: The absolute worst service I've ever experienced and the food was below average (when they actually gave people the meals they ordered)., Aspect: food, Label: negative\n",
      "Input: , Aspect: , Label: \n"
     ]
    }
   ],
   "source": [
    "import prompting\n",
    "\n",
    "prompt, true_label = prompting.default_prompting(loader, 4 - 1, -1)\n",
    "fake_prompt = prompt + true_label + \"\\nInput: \" + loader.get_empty_input()[0] + \", Label: \"\n",
    "\n",
    "print(fake_prompt)"
   ]
  },
  {
   "cell_type": "code",
   "execution_count": null,
   "id": "a7c28c6f-5c08-4975-a5b3-f2d83f14c483",
   "metadata": {},
   "outputs": [],
   "source": []
  },
  {
   "cell_type": "code",
   "execution_count": null,
   "id": "fc22a8f4-ee94-49cc-9ff4-17feec38feaf",
   "metadata": {},
   "outputs": [],
   "source": []
  },
  {
   "cell_type": "code",
   "execution_count": null,
   "id": "e5543374-9167-4353-8696-04a993c958e1",
   "metadata": {},
   "outputs": [],
   "source": []
  },
  {
   "cell_type": "code",
   "execution_count": null,
   "id": "a2b9c759-47e1-43b7-b448-598ab7182650",
   "metadata": {},
   "outputs": [],
   "source": []
  },
  {
   "cell_type": "code",
   "execution_count": 50,
   "id": "cd27f77a-e3be-4073-8e72-85794508c93d",
   "metadata": {
    "tags": []
   },
   "outputs": [],
   "source": [
    "from dataset_loader import tweet_eval_sentiment\n",
    "from scipy.stats import entropy\n",
    "import numpy as np\n",
    "\n",
    "loadertr = tweet_eval_sentiment().default_training_division()\n",
    "loaderte = tweet_eval_sentiment().default_testing_division()"
   ]
  },
  {
   "cell_type": "code",
   "execution_count": 51,
   "id": "102427ee-6f06-42e9-837f-bdd9bf17dbef",
   "metadata": {
    "tags": []
   },
   "outputs": [
    {
     "data": {
      "text/plain": [
       "0.7452546056493616"
      ]
     },
     "execution_count": 51,
     "metadata": {},
     "output_type": "execute_result"
    }
   ],
   "source": [
    "label_stat = [0] * len(loadertr.label_space)\n",
    "\n",
    "for i in range(0, loadertr.max):\n",
    "    _, label = loadertr.get(i)\n",
    "    label_index = loadertr.label_space.index(label)\n",
    "    label_stat[label_index] += 1\n",
    "entropy(label_stat) / np.log(len(loader.label_space))"
   ]
  },
  {
   "cell_type": "code",
   "execution_count": 52,
   "id": "0034551a-8690-4171-8c10-7512b0705fb0",
   "metadata": {
    "tags": []
   },
   "outputs": [
    {
     "data": {
      "text/plain": [
       "0.7274718245571343"
      ]
     },
     "execution_count": 52,
     "metadata": {},
     "output_type": "execute_result"
    }
   ],
   "source": [
    "label_stat = [0] * len(loaderte.label_space)\n",
    "\n",
    "for i in range(0, loaderte.max):\n",
    "    _, label = loaderte.get(i)\n",
    "    label_index = loaderte.label_space.index(label)\n",
    "    label_stat[label_index] += 1\n",
    "entropy(label_stat) / np.log(len(loader.label_space))"
   ]
  },
  {
   "cell_type": "code",
   "execution_count": null,
   "id": "99e68fcd-0d88-4879-ab6a-247b0a698ce3",
   "metadata": {},
   "outputs": [],
   "source": []
  },
  {
   "cell_type": "code",
   "execution_count": 6,
   "id": "28ef5fcc-cd6e-4148-a200-9043daf7abda",
   "metadata": {
    "tags": []
   },
   "outputs": [
    {
     "data": {
      "text/plain": [
       "12970"
      ]
     },
     "execution_count": 6,
     "metadata": {},
     "output_type": "execute_result"
    }
   ],
   "source": [
    "from dataset_loader import tweet_eval_hate\n",
    "\n",
    "loader = tweet_eval_hate()\n",
    "loader.max"
   ]
  }
 ],
 "metadata": {
  "kernelspec": {
   "display_name": "Python 3 (ipykernel)",
   "language": "python",
   "name": "python3"
  },
  "language_info": {
   "codemirror_mode": {
    "name": "ipython",
    "version": 3
   },
   "file_extension": ".py",
   "mimetype": "text/x-python",
   "name": "python",
   "nbconvert_exporter": "python",
   "pygments_lexer": "ipython3",
   "version": "3.11.6"
  }
 },
 "nbformat": 4,
 "nbformat_minor": 5
}
